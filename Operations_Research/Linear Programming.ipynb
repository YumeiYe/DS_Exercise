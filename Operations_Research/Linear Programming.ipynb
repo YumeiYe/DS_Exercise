{
 "cells": [
  {
   "cell_type": "code",
   "execution_count": 2,
   "metadata": {},
   "outputs": [],
   "source": [
    "from ortools.linear_solver import pywraplp\n",
    "from __future__ import print_function"
   ]
  },
  {
   "cell_type": "code",
   "execution_count": 4,
   "metadata": {},
   "outputs": [
    {
     "name": "stdout",
     "output_type": "stream",
     "text": [
      "Number of variables = 2\n",
      "Number of constraints = 3\n",
      "Solution:\n",
      "x =  5.999999999999998\n",
      "y =  3.9999999999999996\n",
      "Optimal objective value = 33.99999999999999\n"
     ]
    }
   ],
   "source": [
    "def LinearProgrammingExample():\n",
    "    \"\"\"Linear programming sample.\"\"\"\n",
    "    # Instantiate a Glop solver, naming it LinearExample.\n",
    "    solver = pywraplp.Solver('LinearProgrammingExample',\n",
    "                             pywraplp.Solver.GLOP_LINEAR_PROGRAMMING)\n",
    "\n",
    "    # Create the two variables and let them take on any non-negative value.\n",
    "    x = solver.NumVar(0, solver.infinity(), 'x')\n",
    "    y = solver.NumVar(0, solver.infinity(), 'y')\n",
    "\n",
    "    # Constraint 0: x + 2y <= 14.\n",
    "    constraint0 = solver.Constraint(-solver.infinity(), 14)\n",
    "    constraint0.SetCoefficient(x, 1)\n",
    "    constraint0.SetCoefficient(y, 2)\n",
    "\n",
    "    # Constraint 1: 3x - y >= 0.\n",
    "    constraint1 = solver.Constraint(0, solver.infinity())\n",
    "    constraint1.SetCoefficient(x, 3)\n",
    "    constraint1.SetCoefficient(y, -1)\n",
    "\n",
    "    # Constraint 2: x - y <= 2.\n",
    "    constraint2 = solver.Constraint(-solver.infinity(), 2)\n",
    "    constraint2.SetCoefficient(x, 1)\n",
    "    constraint2.SetCoefficient(y, -1)\n",
    "\n",
    "    # Objective function: 3x + 4y.\n",
    "    objective = solver.Objective()\n",
    "    objective.SetCoefficient(x, 3)\n",
    "    objective.SetCoefficient(y, 4)\n",
    "    objective.SetMaximization()\n",
    "\n",
    "    # Solve the system.\n",
    "    solver.Solve()\n",
    "    opt_solution = 3 * x.solution_value() + 4 * y.solution_value()\n",
    "    print('Number of variables =', solver.NumVariables())\n",
    "    print('Number of constraints =', solver.NumConstraints())\n",
    "    # The value of each variable in the solution.\n",
    "    print('Solution:')\n",
    "    print('x = ', x.solution_value())\n",
    "    print('y = ', y.solution_value())\n",
    "    # The objective value of the solution.\n",
    "    print('Optimal objective value =', opt_solution)\n",
    "\n",
    "\n",
    "LinearProgrammingExample()"
   ]
  },
  {
   "cell_type": "code",
   "execution_count": null,
   "metadata": {},
   "outputs": [],
   "source": []
  }
 ],
 "metadata": {
  "kernelspec": {
   "display_name": "Python 3",
   "language": "python",
   "name": "python3"
  },
  "language_info": {
   "codemirror_mode": {
    "name": "ipython",
    "version": 3
   },
   "file_extension": ".py",
   "mimetype": "text/x-python",
   "name": "python",
   "nbconvert_exporter": "python",
   "pygments_lexer": "ipython3",
   "version": "3.6.4"
  }
 },
 "nbformat": 4,
 "nbformat_minor": 2
}
