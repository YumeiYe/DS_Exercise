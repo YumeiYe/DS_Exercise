{
 "cells": [
  {
   "cell_type": "code",
   "execution_count": 1,
   "metadata": {},
   "outputs": [],
   "source": [
    "from __future__ import print_function\n",
    "from ortools.linear_solver import pywraplp"
   ]
  },
  {
   "cell_type": "code",
   "execution_count": 2,
   "metadata": {},
   "outputs": [],
   "source": [
    "# Create the mip solver with the CBC backend\n",
    "solver = pywraplp.Solver('simple_mip_program',pywraplp.Solver.CBC_MIXED_INTEGER_PROGRAMMING)"
   ]
  },
  {
   "cell_type": "code",
   "execution_count": 3,
   "metadata": {},
   "outputs": [
    {
     "name": "stdout",
     "output_type": "stream",
     "text": [
      "Number of variables =  2\n"
     ]
    }
   ],
   "source": [
    "# Define variables\n",
    "infinity = solver.infinity()\n",
    "x = solver.IntVar(0.0,infinity,'x')\n",
    "y = solver.IntVar(0.0,infinity,'y')\n",
    "\n",
    "print('Number of variables = ',solver.NumVariables())"
   ]
  },
  {
   "cell_type": "code",
   "execution_count": 4,
   "metadata": {},
   "outputs": [
    {
     "name": "stdout",
     "output_type": "stream",
     "text": [
      "Number of constraints =  2\n"
     ]
    }
   ],
   "source": [
    "# Define Constraints\n",
    "solver.Add(x+7*y<=17.5)\n",
    "solver.Add(x<=3.5)\n",
    "\n",
    "print('Number of constraints = ',solver.NumConstraints())"
   ]
  },
  {
   "cell_type": "code",
   "execution_count": 5,
   "metadata": {},
   "outputs": [],
   "source": [
    "# Define Objective\n",
    "solver.Maximize(x+10*y)"
   ]
  },
  {
   "cell_type": "code",
   "execution_count": 6,
   "metadata": {},
   "outputs": [],
   "source": [
    "# Call solver\n",
    "status = solver.Solve()"
   ]
  },
  {
   "cell_type": "code",
   "execution_count": 7,
   "metadata": {},
   "outputs": [
    {
     "name": "stdout",
     "output_type": "stream",
     "text": [
      "Solution:\n",
      "Objective value = 23.0\n",
      "x = 3.0\n",
      "y = 2.0\n"
     ]
    }
   ],
   "source": [
    "    if status == pywraplp.Solver.OPTIMAL:\n",
    "        print('Solution:')\n",
    "        print('Objective value =', solver.Objective().Value())\n",
    "        print('x =', x.solution_value())\n",
    "        print('y =', y.solution_value())\n",
    "    else:\n",
    "        print('The problem does not have an optimal solution.')"
   ]
  },
  {
   "cell_type": "markdown",
   "metadata": {},
   "source": [
    "#### Defining a model with arrays"
   ]
  },
  {
   "cell_type": "code",
   "execution_count": 11,
   "metadata": {},
   "outputs": [],
   "source": [
    "# Create data model\n",
    "def create_data_model():\n",
    "    data = {}\n",
    "    data['constraint_coeffs']=[\n",
    "      [5, 7, 9, 2, 1],\n",
    "      [18, 4, -9, 10, 12],\n",
    "      [4, 7, 3, 8, 5],\n",
    "      [5, 13, 16, 3, -7],\n",
    "  ]\n",
    "    data['bounds']=[250, 285, 211, 315]\n",
    "    data['obj_coeffs']=[7, 8, 2, 9, 6]\n",
    "    data['num_vars']=5\n",
    "    data['num_constraints']=4\n",
    "    return data\n",
    "data = create_data_model() "
   ]
  },
  {
   "cell_type": "code",
   "execution_count": 12,
   "metadata": {},
   "outputs": [],
   "source": [
    "# Create mip solver with the CBC backend\n",
    "solver = pywraplp.Solver('simple_mip_program_2',pywraplp.Solver.CBC_MIXED_INTEGER_PROGRAMMING)"
   ]
  },
  {
   "cell_type": "code",
   "execution_count": 13,
   "metadata": {},
   "outputs": [
    {
     "name": "stdout",
     "output_type": "stream",
     "text": [
      "Number of variables = 5\n"
     ]
    }
   ],
   "source": [
    "# Define variables\n",
    "infinity = solver.infinity()\n",
    "x = {}\n",
    "for i in range(data['num_vars']):\n",
    "    x[i]=solver.IntVar(0,infinity,'x[%i]'%i)\n",
    "\n",
    "print('Number of variables =', solver.NumVariables())"
   ]
  },
  {
   "cell_type": "code",
   "execution_count": 15,
   "metadata": {},
   "outputs": [
    {
     "name": "stdout",
     "output_type": "stream",
     "text": [
      "Number of constraints = 4\n"
     ]
    }
   ],
   "source": [
    "# Define constraints\n",
    "for i in range(data['num_constraints']):\n",
    "    constraint_expr = [data['constraint_coeffs'][i][j]*x[j] for j in range(data['num_vars'])]\n",
    "    solver.Add(sum(constraint_expr)<= data['bounds'][i])\n",
    "\n",
    "print('Number of constraints =', solver.NumConstraints())"
   ]
  },
  {
   "cell_type": "code",
   "execution_count": 17,
   "metadata": {},
   "outputs": [],
   "source": [
    "# Define objective\n",
    "objective_expr = [data['obj_coeffs'][i]*x[i] for i in range(data['num_vars'])]\n",
    "solver.Maximize(sum(objective_expr))"
   ]
  },
  {
   "cell_type": "code",
   "execution_count": 18,
   "metadata": {},
   "outputs": [],
   "source": [
    "# Call solver\n",
    "status = solver.Solve()"
   ]
  },
  {
   "cell_type": "code",
   "execution_count": 19,
   "metadata": {},
   "outputs": [
    {
     "name": "stdout",
     "output_type": "stream",
     "text": [
      "Solution:\n",
      "Objective value = 260.0\n",
      "<bound method Variable.name of x[0]> = 10.0\n",
      "<bound method Variable.name of x[1]> = 16.0\n",
      "<bound method Variable.name of x[2]> = 4.0\n",
      "<bound method Variable.name of x[3]> = 4.0\n",
      "<bound method Variable.name of x[4]> = 3.0\n",
      "\n",
      "Problem solved in 1316535.000000 milliseconds\n",
      "Problem solved in 344 iterations\n",
      "Problem solved in 19 branch-and-bound nodes\n"
     ]
    }
   ],
   "source": [
    "    if status == pywraplp.Solver.OPTIMAL:\n",
    "        print('Solution:')\n",
    "        print('Objective value =', solver.Objective().Value())\n",
    "        for i in range(data['num_vars']):\n",
    "            print(x[i].name,'=', x[i].solution_value())\n",
    "        print()\n",
    "        print('Problem solved in %f milliseconds' % solver.wall_time())\n",
    "        print('Problem solved in %d iterations' % solver.iterations())\n",
    "        print('Problem solved in %d branch-and-bound nodes' % solver.nodes())\n",
    "    else:\n",
    "        print('The problem does not have an optimal solution.')"
   ]
  },
  {
   "cell_type": "code",
   "execution_count": null,
   "metadata": {},
   "outputs": [],
   "source": []
  }
 ],
 "metadata": {
  "kernelspec": {
   "display_name": "Python 3",
   "language": "python",
   "name": "python3"
  },
  "language_info": {
   "codemirror_mode": {
    "name": "ipython",
    "version": 3
   },
   "file_extension": ".py",
   "mimetype": "text/x-python",
   "name": "python",
   "nbconvert_exporter": "python",
   "pygments_lexer": "ipython3",
   "version": "3.6.4"
  }
 },
 "nbformat": 4,
 "nbformat_minor": 2
}
